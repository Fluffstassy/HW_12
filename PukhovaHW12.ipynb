{
  "nbformat": 4,
  "nbformat_minor": 0,
  "metadata": {
    "colab": {
      "provenance": [],
      "collapsed_sections": [],
      "authorship_tag": "ABX9TyMzESY/6gqoxhT9izz7CDue",
      "include_colab_link": true
    },
    "kernelspec": {
      "name": "python3",
      "display_name": "Python 3"
    },
    "language_info": {
      "name": "python"
    }
  },
  "cells": [
    {
      "cell_type": "markdown",
      "metadata": {
        "id": "view-in-github",
        "colab_type": "text"
      },
      "source": [
        "<a href=\"https://colab.research.google.com/github/Fluffstassy/HW_12/blob/main/PukhovaHW12.ipynb\" target=\"_parent\"><img src=\"https://colab.research.google.com/assets/colab-badge.svg\" alt=\"Open In Colab\"/></a>"
      ]
    },
    {
      "cell_type": "markdown",
      "source": [
        "# Домашнее задание к лекции «Продвинутый pandas»"
      ],
      "metadata": {
        "id": "bgeXCR9LHr0W"
      }
    },
    {
      "cell_type": "markdown",
      "source": [
        "# Задание 1\n",
        "\n",
        "Для датафрейма log из материалов занятия создайте столбец source_type по следующим правилам:\n",
        "\n",
        "если источник traffic_source равен yandex или google, то в source_type ставится organic\n",
        "для источников paid и email из России - ставим ad\n",
        "для источников paid и email не из России - ставим other\n",
        "все остальные варианты берем из traffic_source без изменений"
      ],
      "metadata": {
        "id": "j2YTm_3mGo2o"
      }
    },
    {
      "cell_type": "code",
      "execution_count": null,
      "metadata": {
        "id": "P8CTp0Wxp6iM"
      },
      "outputs": [],
      "source": [
        "import pandas as pd\n",
        "import re\n",
        "\n",
        "log = pd.read_csv('visit_log.csv', sep =';')\n",
        "\n",
        "log.loc[(log.traffic_source == 'yandex') | (log.traffic_source == 'google'), 'source_type'] = 'organic'\n",
        "log.loc[((log.traffic_source == 'paid') | (log.traffic_source == 'email')) & (log.region=='Russia'), 'source_type'] = 'ad'\n",
        "log.loc[((log.traffic_source == 'paid') | (log.traffic_source == 'email')) & (log.region!='Russia'), 'source_type'] = 'other'\n",
        "log.loc[log.source_type.isnull(), 'source_type']=log['traffic_source']\n",
        "\n",
        "log.head(20)"
      ]
    },
    {
      "cell_type": "markdown",
      "source": [
        "# Задание 2\n",
        "\n",
        "В файле URLs.txt содержатся url страниц новостного сайта. Вам необходимо отфильтровать его по адресам страниц с текстами новостей. Известно, что шаблон страницы новостей имеет внутри url следующую конструкцию: /, затем 8 цифр, затем дефис. Выполните следующие действия:\n",
        "\n",
        "Прочитайте содержимое файла с датафрейм\n",
        "Отфильтруйте страницы с текстом новостей, используя метод str.contains и регулярное выражение в соответствии с заданным шаблоном"
      ],
      "metadata": {
        "id": "DC6TEBFoGwoQ"
      }
    },
    {
      "cell_type": "code",
      "source": [
        "urls=pd.read_csv('URLs.txt')\n",
        "urls[urls.url.str.contains('/[0-9]{8}-', regex=True)].head()"
      ],
      "metadata": {
        "id": "m-f7tHgcGwzQ"
      },
      "execution_count": null,
      "outputs": []
    },
    {
      "cell_type": "markdown",
      "source": [
        "# Задание 3\n",
        "\n",
        "Используйте файл с оценками фильмов ml-latest-small/ratings.csv. Посчитайте среднее время жизни пользователей, которые выставили более 100 оценок. Под временем жизни понимается разница между максимальным и минимальным значением столбца timestamp для данного значения userId."
      ],
      "metadata": {
        "id": "oRe6kE4TG4Yg"
      }
    },
    {
      "cell_type": "code",
      "source": [
        "ratings = pd.read_csv('ratings.csv')\n",
        "\n",
        "ratings_pivot_table = ratings.groupby('userId').agg({'timestamp': ['min', 'max', 'count']})['timestamp'].\\\n",
        "                      sort_values('count', ascending=False)\n",
        "life_pivot_table = ratings_pivot_table.loc[ratings_pivot_table['count'] > 100, 'lifetime'] = \\\n",
        "                      (ratings_pivot_table['max'] - ratings_pivot_table['min']).mean()\n",
        "life_pivot_table"
      ],
      "metadata": {
        "colab": {
          "base_uri": "https://localhost:8080/"
        },
        "id": "R6wV0iqAG4go",
        "outputId": "71e4e012-b9fb-4f69-b09d-bb12e62eb972"
      },
      "execution_count": null,
      "outputs": [
        {
          "output_type": "execute_result",
          "data": {
            "text/plain": [
              "17374872.182767622"
            ]
          },
          "metadata": {},
          "execution_count": 13
        }
      ]
    },
    {
      "cell_type": "markdown",
      "source": [
        "# Задание 4\n",
        "\n",
        "Дана статистика услуг перевозок клиентов компании по типам (см. файл с кодом занятия). Необходимо сформировать две таблицы:\n",
        "\n",
        "таблицу с тремя типами выручки для каждого client_id без указания адреса клиента;\n",
        "аналогичную таблицу по типам выручки с указанием адреса клиента\n",
        "Обратите внимание, что в процессе объединения таблиц данные не должны теряться.\n",
        "\n",
        "Дана статистика услуг перевозок клиентов компании по типам:\n",
        "\n",
        "rzd - железнодорожные перевозки\n",
        "\n",
        "auto - автомобильные перевозки\n",
        "\n",
        "air - воздушные перевозки\n",
        "\n",
        "client_base - адреса клиентов"
      ],
      "metadata": {
        "id": "std4MkpAG9YI"
      }
    },
    {
      "cell_type": "code",
      "source": [
        "rzd = pd.DataFrame(\n",
        "    {\n",
        "        'client_id': [111, 112, 113, 114, 115],\n",
        "        'rzd_revenue': [1093, 2810, 10283, 5774, 981]\n",
        "    }\n",
        ")\n",
        "rzd\n",
        "\n",
        "auto = pd.DataFrame(\n",
        "    {\n",
        "        'client_id': [113, 114, 115, 116, 117],\n",
        "        'auto_revenue': [57483, 83, 912, 4834, 98]\n",
        "    }\n",
        ")\n",
        "auto\n",
        "\n",
        "air = pd.DataFrame(\n",
        "    {\n",
        "        'client_id': [115, 116, 117, 118],\n",
        "        'air_revenue': [81, 4, 13, 173]\n",
        "    }\n",
        ")\n",
        "air\n",
        "\n",
        "client_base = pd.DataFrame(\n",
        "    {\n",
        "        'client_id': [111, 112, 113, 114, 115, 116, 117, 118],\n",
        "        'address': ['Комсомольская 4', 'Энтузиастов 8а', 'Левобережная 1а', 'Мира 14', 'ЗЖБИиДК 1', \n",
        "                    'Строителей 18', 'Панфиловская 33', 'Мастеркова 4']\n",
        "    }\n",
        ")\n",
        "client_base\n",
        "\n",
        "all_revenue_base = client_base[['client_id']].merge(rzd, how='left', on='client_id').\\\n",
        "                                              merge(auto, how='left', on='client_id').\\\n",
        "                                              merge(air, how='left', on='client_id')\n",
        "all_revenue_base\n",
        "\n",
        "all_revenue_base_add = client_base.merge(rzd, how='left', on='client_id').\\\n",
        "                                   merge(auto, how='left', on='client_id').\\\n",
        "                                   merge(air, how='left', on='client_id')\n",
        "all_revenue_base_add"
      ],
      "metadata": {
        "id": "4jy7dn8lG9iI"
      },
      "execution_count": null,
      "outputs": []
    }
  ]
}